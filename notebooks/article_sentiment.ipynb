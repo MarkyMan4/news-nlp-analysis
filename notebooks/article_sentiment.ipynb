{
 "cells": [
  {
   "cell_type": "markdown",
   "id": "geological-restaurant",
   "metadata": {},
   "source": [
    "# Finding the sentiment and subjectivity of article content\n",
    "This code will be included in the script for data collection"
   ]
  },
  {
   "cell_type": "code",
   "execution_count": 1,
   "id": "rotary-sodium",
   "metadata": {},
   "outputs": [],
   "source": [
    "import pandas as pd\n",
    "from sqlalchemy import create_engine\n",
    "from textblob import TextBlob\n",
    "import json"
   ]
  },
  {
   "cell_type": "markdown",
   "id": "stylish-madison",
   "metadata": {},
   "source": [
    "### Read from db"
   ]
  },
  {
   "cell_type": "code",
   "execution_count": 2,
   "id": "cellular-charger",
   "metadata": {},
   "outputs": [],
   "source": [
    "with open('../secrets.json') as file:\n",
    "    secrets = json.load(file)\n",
    "    connection_string = secrets['connection_string']\n",
    "\n",
    "db = create_engine(connection_string)\n",
    "df = pd.read_sql('select * from news_article', con=db)"
   ]
  },
  {
   "cell_type": "markdown",
   "id": "assigned-photography",
   "metadata": {},
   "source": [
    "### Find the sentiment and subjectivity of each article\n",
    "Store the results in a new dataframe containing the article id, sentiment and subjectivty"
   ]
  },
  {
   "cell_type": "code",
   "execution_count": 4,
   "id": "outdoor-nylon",
   "metadata": {},
   "outputs": [
    {
     "data": {
      "text/html": [
       "<div>\n",
       "<style scoped>\n",
       "    .dataframe tbody tr th:only-of-type {\n",
       "        vertical-align: middle;\n",
       "    }\n",
       "\n",
       "    .dataframe tbody tr th {\n",
       "        vertical-align: top;\n",
       "    }\n",
       "\n",
       "    .dataframe thead th {\n",
       "        text-align: right;\n",
       "    }\n",
       "</style>\n",
       "<table border=\"1\" class=\"dataframe\">\n",
       "  <thead>\n",
       "    <tr style=\"text-align: right;\">\n",
       "      <th></th>\n",
       "      <th>article_id</th>\n",
       "      <th>sentiment</th>\n",
       "      <th>subjectivity</th>\n",
       "    </tr>\n",
       "  </thead>\n",
       "  <tbody>\n",
       "    <tr>\n",
       "      <th>0</th>\n",
       "      <td>2624</td>\n",
       "      <td>-0.038843</td>\n",
       "      <td>0.405972</td>\n",
       "    </tr>\n",
       "    <tr>\n",
       "      <th>1</th>\n",
       "      <td>2625</td>\n",
       "      <td>0.079649</td>\n",
       "      <td>0.422139</td>\n",
       "    </tr>\n",
       "    <tr>\n",
       "      <th>2</th>\n",
       "      <td>2626</td>\n",
       "      <td>0.029437</td>\n",
       "      <td>0.246321</td>\n",
       "    </tr>\n",
       "    <tr>\n",
       "      <th>3</th>\n",
       "      <td>2627</td>\n",
       "      <td>0.108756</td>\n",
       "      <td>0.264085</td>\n",
       "    </tr>\n",
       "    <tr>\n",
       "      <th>4</th>\n",
       "      <td>2628</td>\n",
       "      <td>0.022870</td>\n",
       "      <td>0.344361</td>\n",
       "    </tr>\n",
       "    <tr>\n",
       "      <th>...</th>\n",
       "      <td>...</td>\n",
       "      <td>...</td>\n",
       "      <td>...</td>\n",
       "    </tr>\n",
       "    <tr>\n",
       "      <th>5620</th>\n",
       "      <td>5622</td>\n",
       "      <td>0.425000</td>\n",
       "      <td>0.475000</td>\n",
       "    </tr>\n",
       "    <tr>\n",
       "      <th>5621</th>\n",
       "      <td>5623</td>\n",
       "      <td>0.058597</td>\n",
       "      <td>0.388420</td>\n",
       "    </tr>\n",
       "    <tr>\n",
       "      <th>5622</th>\n",
       "      <td>5624</td>\n",
       "      <td>0.077931</td>\n",
       "      <td>0.442260</td>\n",
       "    </tr>\n",
       "    <tr>\n",
       "      <th>5623</th>\n",
       "      <td>5625</td>\n",
       "      <td>0.008739</td>\n",
       "      <td>0.337662</td>\n",
       "    </tr>\n",
       "    <tr>\n",
       "      <th>5624</th>\n",
       "      <td>5626</td>\n",
       "      <td>-0.023333</td>\n",
       "      <td>0.281146</td>\n",
       "    </tr>\n",
       "  </tbody>\n",
       "</table>\n",
       "<p>5625 rows × 3 columns</p>\n",
       "</div>"
      ],
      "text/plain": [
       "      article_id  sentiment  subjectivity\n",
       "0           2624  -0.038843      0.405972\n",
       "1           2625   0.079649      0.422139\n",
       "2           2626   0.029437      0.246321\n",
       "3           2627   0.108756      0.264085\n",
       "4           2628   0.022870      0.344361\n",
       "...          ...        ...           ...\n",
       "5620        5622   0.425000      0.475000\n",
       "5621        5623   0.058597      0.388420\n",
       "5622        5624   0.077931      0.442260\n",
       "5623        5625   0.008739      0.337662\n",
       "5624        5626  -0.023333      0.281146\n",
       "\n",
       "[5625 rows x 3 columns]"
      ]
     },
     "execution_count": 4,
     "metadata": {},
     "output_type": "execute_result"
    }
   ],
   "source": [
    "results = {\n",
    "    'article_id': [],\n",
    "    'sentiment': [],\n",
    "    'subjectivity': []\n",
    "}\n",
    "\n",
    "sentiments = []\n",
    "subjectivities = []\n",
    "\n",
    "for i in range(len(df)):\n",
    "    results['article_id'].append(df.iloc[i]['id'])\n",
    "    \n",
    "    blob = TextBlob(df.iloc[i]['content'])\n",
    "    results['sentiment'].append(blob.sentiment.polarity)\n",
    "    results['subjectivity'].append(blob.sentiment.subjectivity)\n",
    "    \n",
    "article_nlp = pd.DataFrame(results)\n",
    "article_nlp"
   ]
  },
  {
   "cell_type": "markdown",
   "id": "unknown-storage",
   "metadata": {},
   "source": [
    "### Next Step:\n",
    "Use the trained LDA model to determine the topic and add that to the article_nlp dataframe. Then it is ready to be inserted into the news_articlenlp table"
   ]
  },
  {
   "cell_type": "code",
   "execution_count": null,
   "id": "pointed-asbestos",
   "metadata": {},
   "outputs": [],
   "source": []
  }
 ],
 "metadata": {
  "kernelspec": {
   "display_name": "Python 3",
   "language": "python",
   "name": "python3"
  },
  "language_info": {
   "codemirror_mode": {
    "name": "ipython",
    "version": 3
   },
   "file_extension": ".py",
   "mimetype": "text/x-python",
   "name": "python",
   "nbconvert_exporter": "python",
   "pygments_lexer": "ipython3",
   "version": "3.8.10"
  }
 },
 "nbformat": 4,
 "nbformat_minor": 5
}
